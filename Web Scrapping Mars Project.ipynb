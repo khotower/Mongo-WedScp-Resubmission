{
 "cells": [
  {
   "cell_type": "code",
   "execution_count": 13,
   "metadata": {
    "collapsed": true
   },
   "outputs": [],
   "source": [
    "from urllib.request import urlopen\n",
    "from bs4 import BeautifulSoup\n",
    "import pandas as pd\n",
    "import requests"
   ]
  },
  {
   "cell_type": "markdown",
   "metadata": {},
   "source": [
    "#### NASA Mars News"
   ]
  },
  {
   "cell_type": "code",
   "execution_count": 14,
   "metadata": {},
   "outputs": [
    {
     "data": {
      "text/html": [
       "<div>\n",
       "<style>\n",
       "    .dataframe thead tr:only-child th {\n",
       "        text-align: right;\n",
       "    }\n",
       "\n",
       "    .dataframe thead th {\n",
       "        text-align: left;\n",
       "    }\n",
       "\n",
       "    .dataframe tbody tr th {\n",
       "        vertical-align: top;\n",
       "    }\n",
       "</style>\n",
       "<table border=\"1\" class=\"dataframe\">\n",
       "  <thead>\n",
       "    <tr style=\"text-align: right;\">\n",
       "      <th></th>\n",
       "      <th>news_p</th>\n",
       "      <th>news_title</th>\n",
       "    </tr>\n",
       "  </thead>\n",
       "  <tbody>\n",
       "    <tr>\n",
       "      <th>0</th>\n",
       "      <td>Did you know NASA's next Mars rover has a near...</td>\n",
       "      <td>NASA Readies Perseverance Mars Rover's Earthly...</td>\n",
       "    </tr>\n",
       "    <tr>\n",
       "      <th>1</th>\n",
       "      <td>Starting July 27, news activities will cover e...</td>\n",
       "      <td>NASA to Broadcast Mars 2020 Perseverance Launc...</td>\n",
       "    </tr>\n",
       "    <tr>\n",
       "      <th>2</th>\n",
       "      <td>The Red Planet's surface has been visited by e...</td>\n",
       "      <td>The Launch Is Approaching for NASA's Next Mars...</td>\n",
       "    </tr>\n",
       "    <tr>\n",
       "      <th>3</th>\n",
       "      <td>Learn more about the agency's next Red Planet ...</td>\n",
       "      <td>NASA to Hold Mars 2020 Perseverance Rover Laun...</td>\n",
       "    </tr>\n",
       "    <tr>\n",
       "      <th>4</th>\n",
       "      <td>Vaneeza Rupani's essay was chosen as the name ...</td>\n",
       "      <td>Alabama High School Student Names NASA's Mars ...</td>\n",
       "    </tr>\n",
       "    <tr>\n",
       "      <th>5</th>\n",
       "      <td>The team also fueled the rover's sky crane to ...</td>\n",
       "      <td>Mars Helicopter Attached to NASA's Perseveranc...</td>\n",
       "    </tr>\n",
       "  </tbody>\n",
       "</table>\n",
       "</div>"
      ],
      "text/plain": [
       "                                              news_p  \\\n",
       "0  Did you know NASA's next Mars rover has a near...   \n",
       "1  Starting July 27, news activities will cover e...   \n",
       "2  The Red Planet's surface has been visited by e...   \n",
       "3  Learn more about the agency's next Red Planet ...   \n",
       "4  Vaneeza Rupani's essay was chosen as the name ...   \n",
       "5  The team also fueled the rover's sky crane to ...   \n",
       "\n",
       "                                          news_title  \n",
       "0  NASA Readies Perseverance Mars Rover's Earthly...  \n",
       "1  NASA to Broadcast Mars 2020 Perseverance Launc...  \n",
       "2  The Launch Is Approaching for NASA's Next Mars...  \n",
       "3  NASA to Hold Mars 2020 Perseverance Rover Laun...  \n",
       "4  Alabama High School Student Names NASA's Mars ...  \n",
       "5  Mars Helicopter Attached to NASA's Perseveranc...  "
      ]
     },
     "execution_count": 14,
     "metadata": {},
     "output_type": "execute_result"
    }
   ],
   "source": [
    "url = 'https://mars.nasa.gov/news/'\n",
    "html = urlopen(url)\n",
    "soup = BeautifulSoup(html, 'lxml')\n",
    "\n",
    "News_Description = soup.findAll(\"div\", {\"class\": \"rollover_description_inner\"})\n",
    "News_Title = soup.findAll(\"div\", {\"class\": \"content_title\"})\n",
    "\n",
    "Mars_News = pd.DataFrame(columns=['news_title', 'news_p'])\n",
    "\n",
    "for i in range(len(News_Description)):\n",
    "    Title = News_Title[i].get_text().replace('\\n\\n', '')\n",
    "    Desc = News_Description[i].get_text().replace('\\n', '')\n",
    "    df = pd.DataFrame({'news_title': [Title], 'news_p':[Desc]})\n",
    "    Mars_News = Mars_News.append(df).reset_index(drop = True)\n",
    "    \n",
    "Mars_News"
   ]
  },
  {
   "cell_type": "code",
   "execution_count": 21,
   "metadata": {},
   "outputs": [
    {
     "data": {
      "text/plain": [
       "[{'news_p': \"Did you know NASA's next Mars rover has a nearly identical sibling on Earth for testing? Even better, it's about to roll for the first time through a replica Martian landscape.\",\n",
       "  'news_title': \"NASA Readies Perseverance Mars Rover's Earthly Twin \"},\n",
       " {'news_p': 'Starting July 27, news activities will cover everything from mission engineering and science to returning samples from Mars to, of course, the launch itself.',\n",
       "  'news_title': 'NASA to Broadcast Mars 2020 Perseverance Launch, Prelaunch Activities'},\n",
       " {'news_p': \"The Red Planet's surface has been visited by eight NASA spacecraft. The ninth will be the first that includes a roundtrip ticket in its flight plan. \",\n",
       "  'news_title': \"The Launch Is Approaching for NASA's Next Mars Rover, Perseverance\"},\n",
       " {'news_p': \"Learn more about the agency's next Red Planet mission during a live event on June 17.\",\n",
       "  'news_title': 'NASA to Hold Mars 2020 Perseverance Rover Launch Briefing'},\n",
       " {'news_p': \"Vaneeza Rupani's essay was chosen as the name for the small spacecraft, which will mark NASA's first attempt at powered flight on another planet.\",\n",
       "  'news_title': \"Alabama High School Student Names NASA's Mars Helicopter\"},\n",
       " {'news_p': \"The team also fueled the rover's sky crane to get ready for this summer's history-making launch.\",\n",
       "  'news_title': \"Mars Helicopter Attached to NASA's Perseverance Rover\"}]"
      ]
     },
     "execution_count": 21,
     "metadata": {},
     "output_type": "execute_result"
    }
   ],
   "source": [
    "Mars_News.to_dict(orient='records')#precipitation_data.to_dict(orient='records')"
   ]
  },
  {
   "cell_type": "markdown",
   "metadata": {},
   "source": [
    "#### Mars Facts"
   ]
  },
  {
   "cell_type": "code",
   "execution_count": 15,
   "metadata": {
    "collapsed": true
   },
   "outputs": [],
   "source": [
    "import requests\n",
    "url = \"https://space-facts.com/mars/\"\n",
    "\n",
    "res= requests.get(url)\n",
    "soup_table = BeautifulSoup(res.content, 'html.parser')\n",
    "table = soup_table.findAll('table') "
   ]
  },
  {
   "cell_type": "code",
   "execution_count": 16,
   "metadata": {},
   "outputs": [],
   "source": [
    "# table"
   ]
  },
  {
   "cell_type": "code",
   "execution_count": 17,
   "metadata": {},
   "outputs": [
    {
     "data": {
      "text/html": [
       "<div>\n",
       "<style>\n",
       "    .dataframe thead tr:only-child th {\n",
       "        text-align: right;\n",
       "    }\n",
       "\n",
       "    .dataframe thead th {\n",
       "        text-align: left;\n",
       "    }\n",
       "\n",
       "    .dataframe tbody tr th {\n",
       "        vertical-align: top;\n",
       "    }\n",
       "</style>\n",
       "<table border=\"1\" class=\"dataframe\">\n",
       "  <thead>\n",
       "    <tr style=\"text-align: right;\">\n",
       "      <th></th>\n",
       "      <th>Description</th>\n",
       "      <th>Facts</th>\n",
       "    </tr>\n",
       "  </thead>\n",
       "  <tbody>\n",
       "    <tr>\n",
       "      <th>0</th>\n",
       "      <td>Equatorial Diameter:</td>\n",
       "      <td>6,792 km</td>\n",
       "    </tr>\n",
       "    <tr>\n",
       "      <th>1</th>\n",
       "      <td>Polar Diameter:</td>\n",
       "      <td>6,752 km</td>\n",
       "    </tr>\n",
       "    <tr>\n",
       "      <th>2</th>\n",
       "      <td>Mass:</td>\n",
       "      <td>6.39 × 10^23 kg (0.11 Earths)</td>\n",
       "    </tr>\n",
       "    <tr>\n",
       "      <th>3</th>\n",
       "      <td>Moons:</td>\n",
       "      <td>2 (Phobos &amp; Deimos)</td>\n",
       "    </tr>\n",
       "    <tr>\n",
       "      <th>4</th>\n",
       "      <td>Orbit Distance:</td>\n",
       "      <td>227,943,824 km (1.38 AU)</td>\n",
       "    </tr>\n",
       "    <tr>\n",
       "      <th>5</th>\n",
       "      <td>Orbit Period:</td>\n",
       "      <td>687 days (1.9 years)</td>\n",
       "    </tr>\n",
       "    <tr>\n",
       "      <th>6</th>\n",
       "      <td>Surface Temperature:</td>\n",
       "      <td>-87 to -5 °C</td>\n",
       "    </tr>\n",
       "    <tr>\n",
       "      <th>7</th>\n",
       "      <td>First Record:</td>\n",
       "      <td>2nd millennium BC</td>\n",
       "    </tr>\n",
       "    <tr>\n",
       "      <th>8</th>\n",
       "      <td>Recorded By:</td>\n",
       "      <td>Egyptian astronomers</td>\n",
       "    </tr>\n",
       "  </tbody>\n",
       "</table>\n",
       "</div>"
      ],
      "text/plain": [
       "             Description                          Facts\n",
       "0   Equatorial Diameter:                       6,792 km\n",
       "1        Polar Diameter:                       6,752 km\n",
       "2                  Mass:  6.39 × 10^23 kg (0.11 Earths)\n",
       "3                 Moons:            2 (Phobos & Deimos)\n",
       "4        Orbit Distance:       227,943,824 km (1.38 AU)\n",
       "5          Orbit Period:           687 days (1.9 years)\n",
       "6  Surface Temperature:                    -87 to -5 °C\n",
       "7          First Record:              2nd millennium BC\n",
       "8           Recorded By:           Egyptian astronomers"
      ]
     },
     "execution_count": 17,
     "metadata": {},
     "output_type": "execute_result"
    }
   ],
   "source": [
    "Mars_facts = pd.DataFrame(columns=['Description', 'Facts'])\n",
    "for tbody in soup_table.findAll('table', {\"id\": \"tablepress-p-mars\"}):\n",
    "    tr = tbody.find_all('tr')\n",
    "    for _tr in tr:\n",
    "        td = _tr.find_all('td')\n",
    "        col1 = td[0].get_text()\n",
    "        col2 = td[1].get_text()\n",
    "        df = pd.DataFrame({'Description': [col1], 'Facts':[col2]})\n",
    "        Mars_facts = Mars_facts.append(df).reset_index(drop=True)\n",
    "\n",
    "Mars_facts.to_html('Mars_Facts.html', index=False)\n",
    "\n",
    "Mars_facts"
   ]
  },
  {
   "cell_type": "code",
   "execution_count": null,
   "metadata": {
    "collapsed": true
   },
   "outputs": [],
   "source": []
  },
  {
   "cell_type": "markdown",
   "metadata": {},
   "source": [
    "#### Mars Hemispheres"
   ]
  },
  {
   "cell_type": "code",
   "execution_count": 30,
   "metadata": {},
   "outputs": [
    {
     "data": {
      "text/html": [
       "<div>\n",
       "<style>\n",
       "    .dataframe thead tr:only-child th {\n",
       "        text-align: right;\n",
       "    }\n",
       "\n",
       "    .dataframe thead th {\n",
       "        text-align: left;\n",
       "    }\n",
       "\n",
       "    .dataframe tbody tr th {\n",
       "        vertical-align: top;\n",
       "    }\n",
       "</style>\n",
       "<table border=\"1\" class=\"dataframe\">\n",
       "  <thead>\n",
       "    <tr style=\"text-align: right;\">\n",
       "      <th></th>\n",
       "      <th>Hemisphere_Title</th>\n",
       "      <th>ImageLocation</th>\n",
       "    </tr>\n",
       "  </thead>\n",
       "  <tbody>\n",
       "    <tr>\n",
       "      <th>0</th>\n",
       "      <td>Cerberus Hemisphere Enhanced</td>\n",
       "      <td>https://astrogeology.usgs.gov/cache/images/39d...</td>\n",
       "    </tr>\n",
       "    <tr>\n",
       "      <th>1</th>\n",
       "      <td>Schiaparelli Hemisphere Enhanced</td>\n",
       "      <td>https://astrogeology.usgs.gov/cache/images/08e...</td>\n",
       "    </tr>\n",
       "    <tr>\n",
       "      <th>2</th>\n",
       "      <td>Syrtis Major Hemisphere Enhanced</td>\n",
       "      <td>https://astrogeology.usgs.gov/cache/images/55a...</td>\n",
       "    </tr>\n",
       "    <tr>\n",
       "      <th>3</th>\n",
       "      <td>Valles Marineris Hemisphere Enhanced</td>\n",
       "      <td>https://astrogeology.usgs.gov/cache/images/4e5...</td>\n",
       "    </tr>\n",
       "  </tbody>\n",
       "</table>\n",
       "</div>"
      ],
      "text/plain": [
       "                       Hemisphere_Title  \\\n",
       "0          Cerberus Hemisphere Enhanced   \n",
       "1      Schiaparelli Hemisphere Enhanced   \n",
       "2      Syrtis Major Hemisphere Enhanced   \n",
       "3  Valles Marineris Hemisphere Enhanced   \n",
       "\n",
       "                                       ImageLocation  \n",
       "0  https://astrogeology.usgs.gov/cache/images/39d...  \n",
       "1  https://astrogeology.usgs.gov/cache/images/08e...  \n",
       "2  https://astrogeology.usgs.gov/cache/images/55a...  \n",
       "3  https://astrogeology.usgs.gov/cache/images/4e5...  "
      ]
     },
     "execution_count": 30,
     "metadata": {},
     "output_type": "execute_result"
    }
   ],
   "source": [
    "url = \"https://astrogeology.usgs.gov/search/results?q=hemisphere+enhanced&k1=target&v1=Mars\"\n",
    "\n",
    "res= requests.get(url)\n",
    "soup_table = BeautifulSoup(res.content, 'html.parser')\n",
    "hemisphere_AllInfo = soup_table.findAll(\"div\", {\"class\": \"collapsible results\"})\n",
    "items = soup_table.findAll(\"div\", {\"class\": \"item\"})\n",
    "\n",
    "hemisphere_image_urls = []\n",
    "Mars_hemisphere = pd.DataFrame(columns=['Hemisphere_Title', 'ImageLocation'])\n",
    "for _item in items:\n",
    "    class1 = _item.find_all('a')\n",
    "    for _class1 in class1:\n",
    "        title = _class1.get_text()\n",
    "#         image_loc1 = _class1.get('href').replace('/search', 'https://astrogeology.usgs.gov/search')\n",
    "        image_loc = _class1.find('img')['src'].replace('/cache', 'https://astrogeology.usgs.gov/cache')\n",
    "        d = pd.DataFrame({'Hemisphere_Title': [title], 'ImageLocation':[image_loc]})\n",
    "        mars_dict = {'Hemisphere_Title': title, 'ImageLocation':image_loc}\n",
    "        hemisphere_image_urls.append(mars_dict)\n",
    "        Mars_hemisphere = Mars_hemisphere.append(d).reset_index(drop=True)  \n",
    "        \n",
    "Mars_hemisphere"
   ]
  },
  {
   "cell_type": "code",
   "execution_count": 31,
   "metadata": {},
   "outputs": [
    {
     "data": {
      "text/plain": [
       "'https://astrogeology.usgs.gov/cache/images/39d3266553462198bd2fbc4d18fbed17_cerberus_enhanced.tif_thumb.png'"
      ]
     },
     "execution_count": 31,
     "metadata": {},
     "output_type": "execute_result"
    }
   ],
   "source": [
    "Mars_hemisphere.ImageLocation[0]"
   ]
  },
  {
   "cell_type": "code",
   "execution_count": 32,
   "metadata": {},
   "outputs": [
    {
     "data": {
      "text/plain": [
       "[{'Hemisphere_Title': 'Cerberus Hemisphere Enhanced',\n",
       "  'ImageLocation': 'https://astrogeology.usgs.gov/cache/images/39d3266553462198bd2fbc4d18fbed17_cerberus_enhanced.tif_thumb.png'},\n",
       " {'Hemisphere_Title': 'Schiaparelli Hemisphere Enhanced',\n",
       "  'ImageLocation': 'https://astrogeology.usgs.gov/cache/images/08eac6e22c07fb1fe72223a79252de20_schiaparelli_enhanced.tif_thumb.png'},\n",
       " {'Hemisphere_Title': 'Syrtis Major Hemisphere Enhanced',\n",
       "  'ImageLocation': 'https://astrogeology.usgs.gov/cache/images/55a0a1e2796313fdeafb17c35925e8ac_syrtis_major_enhanced.tif_thumb.png'},\n",
       " {'Hemisphere_Title': 'Valles Marineris Hemisphere Enhanced',\n",
       "  'ImageLocation': 'https://astrogeology.usgs.gov/cache/images/4e59980c1c57f89c680c0e1ccabbeff1_valles_marineris_enhanced.tif_thumb.png'}]"
      ]
     },
     "execution_count": 32,
     "metadata": {},
     "output_type": "execute_result"
    }
   ],
   "source": [
    "hemisphere_image_urls"
   ]
  },
  {
   "cell_type": "code",
   "execution_count": 12,
   "metadata": {
    "collapsed": true
   },
   "outputs": [],
   "source": [
    "\n"
   ]
  },
  {
   "cell_type": "markdown",
   "metadata": {},
   "source": [
    "#### JPL Mars Space Images - Featured Image"
   ]
  },
  {
   "cell_type": "code",
   "execution_count": 42,
   "metadata": {},
   "outputs": [],
   "source": [
    "url = \"https://www.jpl.nasa.gov/spaceimages/?search=&category=Mars\"\n",
    "res= requests.get(url)\n",
    "soup_table = BeautifulSoup(res.content, 'html.parser')\n",
    "# print(soup_table)\n",
    "hemisphere_AllInfo = soup_table.findAll(\"a\", {\"class\": \"button fancybox\"})\n",
    "featured_image ={}\n",
    "for i in hemisphere_AllInfo:\n",
    "    image_loc = i.get('data-fancybox-href').replace('/spaceimages', 'https://www.jpl.nasa.gov/spaceimages')\n",
    "    featured_image['Featured Mars Image']=image_loc\n"
   ]
  },
  {
   "cell_type": "code",
   "execution_count": 45,
   "metadata": {},
   "outputs": [
    {
     "data": {
      "text/plain": [
       "[{'Featured Mars Image': 'https://www.jpl.nasa.gov/spaceimages/images/mediumsize/PIA18914_ip.jpg'}]"
      ]
     },
     "execution_count": 45,
     "metadata": {},
     "output_type": "execute_result"
    }
   ],
   "source": [
    "[featured_image]"
   ]
  },
  {
   "cell_type": "code",
   "execution_count": 48,
   "metadata": {
    "collapsed": true
   },
   "outputs": [],
   "source": [
    "dct = {'news_p': \"Did you know NASA's next Mars rover has a nearly identical sibling on Earth for testing? Even better, it's about to roll for the first time through a replica Martian landscape.\", 'news_title': \"NASA Readies Perseverance Mars Rover's Earthly Twin \"}"
   ]
  },
  {
   "cell_type": "code",
   "execution_count": 53,
   "metadata": {},
   "outputs": [
    {
     "name": "stdout",
     "output_type": "stream",
     "text": [
      "news_p\n",
      "news_title\n"
     ]
    }
   ],
   "source": [
    "for news_title in dct:\n",
    "    print(news_title)\n",
    "#     print(news_p)"
   ]
  },
  {
   "cell_type": "code",
   "execution_count": null,
   "metadata": {
    "collapsed": true
   },
   "outputs": [],
   "source": []
  },
  {
   "cell_type": "code",
   "execution_count": null,
   "metadata": {
    "collapsed": true
   },
   "outputs": [],
   "source": []
  },
  {
   "cell_type": "code",
   "execution_count": null,
   "metadata": {
    "collapsed": true
   },
   "outputs": [],
   "source": []
  },
  {
   "cell_type": "code",
   "execution_count": null,
   "metadata": {
    "collapsed": true
   },
   "outputs": [],
   "source": []
  },
  {
   "cell_type": "code",
   "execution_count": null,
   "metadata": {
    "collapsed": true
   },
   "outputs": [],
   "source": []
  },
  {
   "cell_type": "code",
   "execution_count": null,
   "metadata": {
    "collapsed": true
   },
   "outputs": [],
   "source": []
  }
 ],
 "metadata": {
  "kernelspec": {
   "display_name": "Python 3",
   "language": "python",
   "name": "python3"
  },
  "language_info": {
   "codemirror_mode": {
    "name": "ipython",
    "version": 3
   },
   "file_extension": ".py",
   "mimetype": "text/x-python",
   "name": "python",
   "nbconvert_exporter": "python",
   "pygments_lexer": "ipython3",
   "version": "3.6.1"
  },
  "varInspector": {
   "cols": {
    "lenName": 16,
    "lenType": 16,
    "lenVar": 40
   },
   "kernels_config": {
    "python": {
     "delete_cmd_postfix": "",
     "delete_cmd_prefix": "del ",
     "library": "var_list.py",
     "varRefreshCmd": "print(var_dic_list())"
    },
    "r": {
     "delete_cmd_postfix": ") ",
     "delete_cmd_prefix": "rm(",
     "library": "var_list.r",
     "varRefreshCmd": "cat(var_dic_list()) "
    }
   },
   "types_to_exclude": [
    "module",
    "function",
    "builtin_function_or_method",
    "instance",
    "_Feature"
   ],
   "window_display": false
  }
 },
 "nbformat": 4,
 "nbformat_minor": 4
}
